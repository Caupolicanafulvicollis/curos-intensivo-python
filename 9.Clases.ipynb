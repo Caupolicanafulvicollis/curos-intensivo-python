{
 "cells": [
  {
   "cell_type": "markdown",
   "metadata": {},
   "source": [
    "# Clases\n",
    "\n",
    "> La cración de un objeto a partir de una clase recibe el nombre de \"instanciación\" y trabajamos con \"instancias\" de una clase (...) Escribimos clases y crearemos instancias de esas clases. "
   ]
  },
  {
   "cell_type": "markdown",
   "metadata": {},
   "source": [
    "## Crear y usar una clase"
   ]
  },
  {
   "cell_type": "code",
   "execution_count": null,
   "metadata": {},
   "outputs": [],
   "source": [
    "class Dog: \n",
    "    #\"Un simple intento de modelar un perro\"\n",
    "    def __init__(self,name,age):\n",
    "        #inicializa los atributos de nombre y edad\n",
    "        self.name=name\n",
    "        self.age=age\n",
    "    \n",
    "    def sit(self):\n",
    "        #\"simula un perro sentadnose en respuesta a una orden\"\n",
    "        print(f\"{self.name} is now sitting\")\n",
    "\n",
    "    def roll_over(self):\n",
    "        #\"Simula hacer la croqueta en respuesta a una orden\"\n",
    "        print(f\"{self.name} rolled over\")"
   ]
  },
  {
   "cell_type": "markdown",
   "metadata": {},
   "source": [
    "### El método __init__ "
   ]
  },
  {
   "cell_type": "markdown",
   "metadata": {},
   "source": [
    "\n",
    "> una funcion que forma parte de una clase es un \"método\"\n",
    "\n",
    "> El método __init__ es un método especial que ejectuará Python automaticamente siempre que creemos una nueva instancia basada en la clase Dog. \n",
    "\n",
    "> El parametro self es necesario en la definición del método y debe ir antes que los otros. \n",
    "\n",
    "> Cuando Python llame el método (...), la llamada pasará automáticamente el argumento self. Cada llamada al método asociada con una instancia para automaticamente self, que es una refenrecia propia de la instancia; da a la instancia individual acceso a los atrbutos y métodos de la clase. \n",
    "\n",
    "> Cualquier variable prefijada con self estará disponible para todos los métodos de la clase y podremos accedeer a estas varaibles a través de cualquier instancia creada desde la clase. "
   ]
  },
  {
   "cell_type": "markdown",
   "metadata": {},
   "source": [
    "### Hacer una instancia de una clase"
   ]
  },
  {
   "cell_type": "markdown",
   "metadata": {},
   "source": [
    "> Piense en una clase como un conjunto de instrucciones para hacer una instancia"
   ]
  },
  {
   "cell_type": "code",
   "execution_count": null,
   "metadata": {},
   "outputs": [],
   "source": [
    "class Dog: \n",
    "    #\"Un simple intento de modelar un perro\"\n",
    "    def __init__(self,name,age):\n",
    "        #inicializa los atributos de nombre y edad\n",
    "        self.name=name\n",
    "        self.age=age\n",
    "    \n",
    "    def sit(self):\n",
    "        #\"simula un perro sentadnose en respuesta a una orden\"\n",
    "        print(f\"{self.name} is now sitting\")\n",
    "\n",
    "    def roll_over(self):\n",
    "        #\"Simula hacer la croqueta en respuesta a una orden\"\n",
    "        print(f\"{self.name} rolled over\")\n",
    "\n"
   ]
  },
  {
   "cell_type": "markdown",
   "metadata": {},
   "source": []
  }
 ],
 "metadata": {
  "language_info": {
   "name": "python"
  }
 },
 "nbformat": 4,
 "nbformat_minor": 2
}
