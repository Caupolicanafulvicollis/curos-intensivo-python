{
 "cells": [
  {
   "cell_type": "markdown",
   "metadata": {},
   "source": [
    "# Clases\n",
    "\n",
    "> La cración de un objeto a partir de una clase recibe el nombre de \"instanciación\" y trabajamos con \"instancias\" de una clase (...) Escribimos clases y crearemos instancias de esas clases. "
   ]
  },
  {
   "cell_type": "markdown",
   "metadata": {},
   "source": [
    "## Crear y usar una clase"
   ]
  },
  {
   "cell_type": "code",
   "execution_count": 2,
   "metadata": {},
   "outputs": [],
   "source": [
    "class Dog: \n",
    "    #\"Un simple intento de modelar un perro\"\n",
    "    def __init__(self,name,age):\n",
    "        #inicializa los atributos de nombre y edad\n",
    "        self.name=name\n",
    "        self.age=age\n",
    "    \n",
    "    def sit(self):\n",
    "        #\"simula un perro sentadnose en respuesta a una orden\"\n",
    "        print(f\"{self.name} is now sitting\")\n",
    "\n",
    "    def roll_over(self):\n",
    "        #\"Simula hacer la croqueta en respuesta a una orden\"\n",
    "        print(f\"{self.name} rolled over\")"
   ]
  },
  {
   "cell_type": "markdown",
   "metadata": {},
   "source": [
    "### El método __init__ "
   ]
  },
  {
   "cell_type": "markdown",
   "metadata": {},
   "source": [
    "\n",
    "> una funcion que forma parte de una clase es un \"método\"\n",
    "\n",
    "> El método `__init__` es un método especial que ejectuará Python automaticamente siempre que creemos una nueva instancia basada en la clase `Dog`. \n",
    "\n",
    "> El parametro `self` es necesario en la definición del método y debe ir antes que los otros. \n",
    "\n",
    "> Cuando Python llame el método (...), la llamada pasará automáticamente el argumento `self`. Cada llamada al método asociada con una instancia para automaticamente `self`, que es una refenrecia propia de la instancia; da a la instancia individual acceso a los atributos y métodos de la clase. \n",
    "\n",
    "> Cualquier variable prefijada con `self` estará disponible para todos los métodos de la clase y podremos accedeer a estas varaibles a través de cualquier instancia creada desde la clase. "
   ]
  },
  {
   "cell_type": "markdown",
   "metadata": {},
   "source": [
    "### Hacer una instancia de una clase"
   ]
  },
  {
   "cell_type": "markdown",
   "metadata": {},
   "source": [
    "> Piense en una clase como un conjunto de instrucciones para hacer una instancia"
   ]
  },
  {
   "cell_type": "code",
   "execution_count": 3,
   "metadata": {},
   "outputs": [
    {
     "name": "stdout",
     "output_type": "stream",
     "text": [
      "My dog's name is Willie\n",
      "My dog is 6 years old\n"
     ]
    }
   ],
   "source": [
    "class Dog: \n",
    "    #\"Un simple intento de modelar un perro\"\n",
    "    def __init__(self,name,age):\n",
    "        #inicializa los atributos de nombre y edad\n",
    "        self.name=name\n",
    "        self.age=age\n",
    "    \n",
    "    def sit(self):\n",
    "        #\"simula un perro sentadnose en respuesta a una orden\"\n",
    "        print(f\"{self.name} is now sitting\")\n",
    "\n",
    "    def roll_over(self):\n",
    "        #\"Simula hacer la croqueta en respuesta a una orden\"\n",
    "        print(f\"{self.name} rolled over\")\n",
    "\n",
    "my_dog=Dog(\"Willie\",6)\n",
    "\n",
    "print(f\"My dog's name is {my_dog.name}\")\n",
    "print(f\"My dog is {my_dog.age} years old\")"
   ]
  },
  {
   "cell_type": "markdown",
   "metadata": {},
   "source": [
    "#### Acceder a los atributos"
   ]
  },
  {
   "cell_type": "code",
   "execution_count": 4,
   "metadata": {},
   "outputs": [
    {
     "data": {
      "text/plain": [
       "'Willie'"
      ]
     },
     "execution_count": 4,
     "metadata": {},
     "output_type": "execute_result"
    }
   ],
   "source": [
    "my_dog.name"
   ]
  },
  {
   "cell_type": "markdown",
   "metadata": {},
   "source": [
    "#### Llamadas a métodos"
   ]
  },
  {
   "cell_type": "markdown",
   "metadata": {},
   "source": [
    "> Usar la notación de punto para llamar a cualquier método (función) definido en `Dog`"
   ]
  },
  {
   "cell_type": "code",
   "execution_count": 5,
   "metadata": {},
   "outputs": [
    {
     "name": "stdout",
     "output_type": "stream",
     "text": [
      "Willie is now sitting\n",
      "Willie rolled over\n"
     ]
    }
   ],
   "source": [
    "class Dog: \n",
    "    #\"Un simple intento de modelar un perro\"\n",
    "    def __init__(self,name,age):\n",
    "        #inicializa los atributos de nombre y edad\n",
    "        self.name=name\n",
    "        self.age=age\n",
    "    \n",
    "    def sit(self):\n",
    "        #\"simula un perro sentadnose en respuesta a una orden\"\n",
    "        print(f\"{self.name} is now sitting\")\n",
    "\n",
    "    def roll_over(self):\n",
    "        #\"Simula hacer la croqueta en respuesta a una orden\"\n",
    "        print(f\"{self.name} rolled over\")\n",
    "\n",
    "my_dog=Dog(\"Willie\",6)\n",
    "my_dog.sit()\n",
    "my_dog.roll_over()"
   ]
  },
  {
   "cell_type": "markdown",
   "metadata": {},
   "source": [
    "#### Crear múltiples instancias"
   ]
  },
  {
   "cell_type": "markdown",
   "metadata": {},
   "source": [
    "> Podemos crear todas las instancias que necesitemos a partir de una clase"
   ]
  },
  {
   "cell_type": "code",
   "execution_count": 6,
   "metadata": {},
   "outputs": [
    {
     "name": "stdout",
     "output_type": "stream",
     "text": [
      "My dog's name is Willie\n",
      "my dog is 6 years old\n",
      "Willie is now sitting\n",
      "My dog's name is Lucy\n",
      "my dog is 3 years old\n",
      "Lucy is now sitting\n"
     ]
    }
   ],
   "source": [
    "my_dog=Dog(\"Willie\", 6)\n",
    "your_dog=Dog('Lucy',3)\n",
    "\n",
    "print(f\"My dog's name is {my_dog.name}\")\n",
    "print(f\"my dog is {my_dog.age} years old\")\n",
    "my_dog.sit()\n",
    "\n",
    "print(f\"My dog's name is {your_dog.name}\")\n",
    "print(f\"my dog is {your_dog.age} years old\")\n",
    "your_dog.sit()\n"
   ]
  },
  {
   "cell_type": "markdown",
   "metadata": {},
   "source": [
    ">Cada instancia separada, con su propio conjunto de atributos y capaz de hacer el mismo conjunto de acciones"
   ]
  },
  {
   "cell_type": "markdown",
   "metadata": {},
   "source": [
    "## PRUÉBELO"
   ]
  },
  {
   "cell_type": "markdown",
   "metadata": {},
   "source": [
    "### 9-1. Restaurante"
   ]
  },
  {
   "cell_type": "markdown",
   "metadata": {},
   "source": [
    "Haga una clase llamada `Restaurante`. El método `__init()__` para Restaurante debería albergar dos atributos: nombre_restaurante y tipo_cocina. Crre un método llamado `describir_restaurante()` que imprima estos dos datos, y un metodo llamado `abrir_restaurante()` que imprima un mensaje indicando que el restaurante esta abierto. "
   ]
  },
  {
   "cell_type": "code",
   "execution_count": 7,
   "metadata": {},
   "outputs": [
    {
     "name": "stdout",
     "output_type": "stream",
     "text": [
      "El restaurante Cora Bistro tiene un tipo de cocina Chilena\n",
      "el restaurante Cora Bistro esta abierto\n"
     ]
    }
   ],
   "source": [
    "class Restaurante:\n",
    "    def __init__(self,nombre_restaurante, tipo_cocina): # metodo constructor\n",
    "        self.nombre_restaurante=nombre_restaurante\n",
    "        self.tipo_cocina=tipo_cocina\n",
    "\n",
    "    def describir_restaurante(self): #metodo\n",
    "        print(f\"El restaurante {self.nombre_restaurante} tiene un tipo de cocina {self.tipo_cocina}\")\n",
    "\n",
    "    def abrir_restaurante(self): #metodo\n",
    "        print(f\"el restaurante {self.nombre_restaurante} esta abierto\")\n",
    "\n",
    "restaurante=Restaurante(\"Cora Bistro\",\"Chilena\") #instancia\n",
    "restaurante.describir_restaurante() #llamadas a metodos \n",
    "restaurante.abrir_restaurante() #llamadas a metodos "
   ]
  },
  {
   "cell_type": "markdown",
   "metadata": {},
   "source": [
    "### 9-2 Tres restaurantes"
   ]
  },
  {
   "cell_type": "markdown",
   "metadata": {},
   "source": [
    "Empiece con la clase del ejercicio 9-1. Cree tres instancias diferentes a partir de ella y llame a `describir_restaurante()` para cada instancia"
   ]
  },
  {
   "cell_type": "code",
   "execution_count": 8,
   "metadata": {},
   "outputs": [
    {
     "name": "stdout",
     "output_type": "stream",
     "text": [
      "El restaurante Cora Bistro tiene un tipo de cocina Chilena\n",
      "El restaurante Miguel Torres tiene un tipo de cocina Vinoteca\n",
      "El restaurante Miguel Torres tiene un tipo de cocina Vinoteca\n"
     ]
    }
   ],
   "source": [
    "class Restaurante:\n",
    "    def __init__(self,nombre_restaurante, tipo_cocina): # metodo constructor\n",
    "        self.nombre_restaurante=nombre_restaurante\n",
    "        self.tipo_cocina=tipo_cocina\n",
    "\n",
    "    def describir_restaurante(self): #metodo\n",
    "        print(f\"El restaurante {self.nombre_restaurante} tiene un tipo de cocina {self.tipo_cocina}\")\n",
    "\n",
    "    def abrir_restaurante(self): #metodo\n",
    "        print(f\"el restaurante {self.nombre_restaurante} esta abierto\")\n",
    "\n",
    "restaurante=Restaurante(\"Cora Bistro\",\"Chilena\") #instancia\n",
    "restaurante1=Restaurante(\"Miguel Torres\",\"Vinoteca\")\n",
    "restaurante2=Restaurante(\"Barrio Sur\",\"Chilena\")\n",
    "\n",
    "restaurante.describir_restaurante()\n",
    "restaurante1.describir_restaurante()\n",
    "restaurante1.describir_restaurante()"
   ]
  },
  {
   "cell_type": "markdown",
   "metadata": {},
   "source": [
    "### 9-3. Usuarios"
   ]
  },
  {
   "cell_type": "markdown",
   "metadata": {},
   "source": [
    "Crre una clase llamada `Usuario`. Cree dos atributos llamados `nombre` y `apellido` y otros que suelan guardarse en un perfil de usuario. Haga un metodo llamado `describir_usuario()` que imprima un resumen de la informacion del usuario. Haga otro metodo `saludar_usuario()` que imprima un saludo personalizado para el usuario. \n",
    "\n",
    "Cree varias instancias que representen a distintos usuarios y llame a ambos metodos para cada usuario. "
   ]
  },
  {
   "cell_type": "code",
   "execution_count": 9,
   "metadata": {},
   "outputs": [
    {
     "name": "stdout",
     "output_type": "stream",
     "text": [
      "El nombre del usuario es: Alan Kay\n",
      "El nombre del usuario es: Edsger Dijkstra\n",
      "El nombre del usuario es: Dennis Ritchie\n",
      "Saludos Edsger Dijkstra\n",
      "Saludos Dennis Ritchie\n",
      "Saludos Alan Kay\n"
     ]
    }
   ],
   "source": [
    "class Usuario:\n",
    "    def __init__(self,nombre,apellido):    #metodos constructor\n",
    "        self.nombre=nombre                 #atributos \n",
    "        self.apellido=apellido             #atributos\n",
    "    \n",
    "    def describir_usuario(self):\n",
    "        print(f\"El nombre del usuario es: {self.nombre} {self.apellido}\")\n",
    "    \n",
    "    def saludar_usuario(self):\n",
    "        print(f\"Saludos {self.nombre} {self.apellido}\")\n",
    "\n",
    "usuario1=Usuario(\"Alan\",\"Kay\")\n",
    "usuario2=Usuario(\"Edsger\",\"Dijkstra\")\n",
    "usuario3=Usuario(\"Dennis\",\"Ritchie\")\n",
    "\n",
    "usuario1.describir_usuario()\n",
    "usuario2.describir_usuario()\n",
    "usuario3.describir_usuario()\n",
    "\n",
    "usuario2.saludar_usuario()\n",
    "usuario3.saludar_usuario()\n",
    "usuario1.saludar_usuario()\n"
   ]
  },
  {
   "cell_type": "markdown",
   "metadata": {},
   "source": [
    "## Trabajar con clases e instancias"
   ]
  },
  {
   "cell_type": "markdown",
   "metadata": {},
   "source": [
    "### La clase Car"
   ]
  },
  {
   "cell_type": "code",
   "execution_count": 10,
   "metadata": {},
   "outputs": [
    {
     "name": "stdout",
     "output_type": "stream",
     "text": [
      "2019 Audi A4\n"
     ]
    }
   ],
   "source": [
    "class Car:\n",
    "    #un simple intento de represetnar un coche\n",
    "    def __init__(self, make,model,year):\n",
    "        #inicializa atributos para describir un coche\n",
    "        self.make=make\n",
    "        self.model=model\n",
    "        self.year=year\n",
    "    \n",
    "    def get_descriptive_name(self):\n",
    "        #Devuleve un nombre descriptivo con el dformato adecuado\n",
    "        long_name=f\"{self.year} {self.make} {self.model}\"\n",
    "        return long_name.title()\n",
    "\n",
    "my_new_car=Car('audi','a4',2019)\n",
    "print(my_new_car.get_descriptive_name())"
   ]
  },
  {
   "cell_type": "markdown",
   "metadata": {},
   "source": [
    "### Establecer un valor predeterminado para un atributo"
   ]
  },
  {
   "cell_type": "code",
   "execution_count": 11,
   "metadata": {},
   "outputs": [
    {
     "name": "stdout",
     "output_type": "stream",
     "text": [
      "2019 Audi A4\n",
      "This car has 0 miles on it\n"
     ]
    }
   ],
   "source": [
    "class Car:\n",
    "    #un simple intento de represetnar un coche\n",
    "    def __init__(self, make,model,year):\n",
    "        #inicializa atributos para describir un coche\n",
    "        self.make=make\n",
    "        self.model=model\n",
    "        self.year=year\n",
    "        self.odometer_reading=0 #nuevo atributo con valor inicial 0\n",
    "    \n",
    "    def get_descriptive_name(self): #metodo\n",
    "        #Devuleve un nombre descriptivo con el dformato adecuado\n",
    "        long_name=f\"{self.year} {self.make} {self.model}\"\n",
    "        return long_name.title()\n",
    "    \n",
    "    def read_odometer(self): #nuevo metodo \n",
    "        #imprime una oracion que indica el kilometraje del coche\n",
    "        print(f\"This car has {self.odometer_reading} miles on it\")\n",
    "\n",
    "my_new_car=Car('audi','a4',2019)\n",
    "print(my_new_car.get_descriptive_name())\n",
    "my_new_car.read_odometer()"
   ]
  },
  {
   "cell_type": "markdown",
   "metadata": {},
   "source": [
    "### Modificar el valor de un atributo"
   ]
  },
  {
   "cell_type": "markdown",
   "metadata": {},
   "source": [
    ">Modificar el atributo 3 maneras:\n",
    "    - Directamente a traves de una instancia\n",
    "    - Estableciendo el valor con un metodo\n",
    "    - incrementando el valor a traves de un metodo."
   ]
  },
  {
   "cell_type": "markdown",
   "metadata": {},
   "source": [
    "#### Modificar el valor de un atributo directamente "
   ]
  },
  {
   "cell_type": "markdown",
   "metadata": {},
   "source": [
    "> Forma facil de cambiar un atributo a traves de una instancia."
   ]
  },
  {
   "cell_type": "code",
   "execution_count": 12,
   "metadata": {},
   "outputs": [
    {
     "name": "stdout",
     "output_type": "stream",
     "text": [
      "2019 Audi A4\n",
      "This car has 23 miles on it\n"
     ]
    }
   ],
   "source": [
    "my_new_car=Car('audi','a4',2019)\n",
    "#se accede al atributo de la instancia\n",
    "print(my_new_car.get_descriptive_name())\n",
    "#se cambia el atributo el cual era 0 a 23. \n",
    "#se genera la instancia\n",
    "my_new_car.odometer_reading=23\n",
    "#llamar al metodo de la instancia\n",
    "my_new_car.read_odometer()"
   ]
  },
  {
   "cell_type": "markdown",
   "metadata": {},
   "source": [
    "#### Modificar el valor de un atributo a traves de una metodo"
   ]
  },
  {
   "cell_type": "markdown",
   "metadata": {},
   "source": [
    "> puede ser util tener metodos que actualicen ciertos atributos por nosotros. "
   ]
  },
  {
   "cell_type": "code",
   "execution_count": 15,
   "metadata": {},
   "outputs": [
    {
     "name": "stdout",
     "output_type": "stream",
     "text": [
      "2019 Audi A4\n",
      "This car has 23 miles on it\n"
     ]
    }
   ],
   "source": [
    "class Car:\n",
    "    #un simple intento de represetnar un coche\n",
    "    def __init__(self, make,model,year):\n",
    "        #inicializa atributos para describir un coche\n",
    "        self.make=make\n",
    "        self.model=model\n",
    "        self.year=year\n",
    "        self.odometer_reading=0 #nuevo atributo con valor inicial 0\n",
    "    \n",
    "    def get_descriptive_name(self): #metodo\n",
    "        #Devuleve un nombre descriptivo con el dformato adecuado\n",
    "        long_name=f\"{self.year} {self.make} {self.model}\"\n",
    "        return long_name.title()\n",
    "    \n",
    "    def read_odometer(self): #nuevo metodo \n",
    "        #imprime una oracion que indica el kilometraje del coche\n",
    "        print(f\"This car has {self.odometer_reading} miles on it\")\n",
    "\n",
    "    #se pasa el nuevo valor a un metodo\n",
    "    def update_odometer(self,mileage): #metodo\n",
    "        #configura el kilometraje con el valor dado\n",
    "        self.odometer_reading=mileage #atributo de la instancia, que gestiona su valor internamente\n",
    "\n",
    "my_new_car=Car('audi','a4',2019)\n",
    "print(my_new_car.get_descriptive_name())\n",
    "#llamada de un metodo que gestiona el cazmbio del valor de un atributo de forma interna\n",
    "my_new_car.update_odometer(23) # se coloca como argumento el atribtuo el valor que se quiere modificar en el atributo\n",
    "my_new_car.read_odometer()\n"
   ]
  },
  {
   "cell_type": "code",
   "execution_count": 16,
   "metadata": {},
   "outputs": [],
   "source": [
    "class Car:\n",
    "    #un simple intento de represetnar un coche\n",
    "    def __init__(self, make,model,year):\n",
    "        #inicializa atributos para describir un coche\n",
    "        self.make=make\n",
    "        self.model=model\n",
    "        self.year=year\n",
    "        self.odometer_reading=0 #nuevo atributo con valor inicial 0\n",
    "    \n",
    "    def get_descriptive_name(self): #metodo\n",
    "        #Devuleve un nombre descriptivo con el dformato adecuado\n",
    "        long_name=f\"{self.year} {self.make} {self.model}\"\n",
    "        return long_name.title()\n",
    "    \n",
    "    def read_odometer(self): #nuevo metodo \n",
    "        #imprime una oracion que indica el kilometraje del coche\n",
    "        print(f\"This car has {self.odometer_reading} miles on it\")\n",
    "\n",
    "    #se pasa el nuevo valor a un metodo\n",
    "    def update_odometer(self,mileage): #metodo\n",
    "        #configura el kilometraje con el valor dado\n",
    "        self.odometer_reading=mileage #atributo de la instancia, que gestiona su valor internamente\n",
    "\n",
    "        #condicion para que el kilometraje no se baje a lo existente\n",
    "        if mileage >= self.odometer_reading:\n",
    "            self.odometer_reading=mileage\n",
    "        else:\n",
    "            print(\"You can't roll back an odometer!\")"
   ]
  },
  {
   "cell_type": "markdown",
   "metadata": {},
   "source": []
  }
 ],
 "metadata": {
  "kernelspec": {
   "display_name": "base",
   "language": "python",
   "name": "python3"
  },
  "language_info": {
   "codemirror_mode": {
    "name": "ipython",
    "version": 3
   },
   "file_extension": ".py",
   "mimetype": "text/x-python",
   "name": "python",
   "nbconvert_exporter": "python",
   "pygments_lexer": "ipython3",
   "version": "3.12.7"
  }
 },
 "nbformat": 4,
 "nbformat_minor": 2
}
