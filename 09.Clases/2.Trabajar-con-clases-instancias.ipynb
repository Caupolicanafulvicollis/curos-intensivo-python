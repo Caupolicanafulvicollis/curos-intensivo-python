{
 "cells": [
  {
   "cell_type": "markdown",
   "metadata": {},
   "source": [
    "## Trabajar con clases e instancias"
   ]
  },
  {
   "cell_type": "markdown",
   "metadata": {},
   "source": [
    "### La clase Car"
   ]
  },
  {
   "cell_type": "code",
   "execution_count": 1,
   "metadata": {},
   "outputs": [
    {
     "name": "stdout",
     "output_type": "stream",
     "text": [
      "2019 Audi A4\n"
     ]
    }
   ],
   "source": [
    "class Car:\n",
    "    #un simple intento de represetnar un coche\n",
    "    def __init__(self, make,model,year):\n",
    "        #inicializa atributos para describir un coche\n",
    "        self.make=make\n",
    "        self.model=model\n",
    "        self.year=year\n",
    "    \n",
    "    def get_descriptive_name(self):\n",
    "        #Devuleve un nombre descriptivo con el dformato adecuado\n",
    "        long_name=f\"{self.year} {self.make} {self.model}\"\n",
    "        return long_name.title()\n",
    "\n",
    "my_new_car=Car('audi','a4',2019)\n",
    "print(my_new_car.get_descriptive_name())"
   ]
  },
  {
   "cell_type": "markdown",
   "metadata": {},
   "source": [
    "### Establecer un valor predeterminado para un atributo"
   ]
  },
  {
   "cell_type": "code",
   "execution_count": 2,
   "metadata": {},
   "outputs": [
    {
     "name": "stdout",
     "output_type": "stream",
     "text": [
      "2019 Audi A4\n",
      "This car has 0 miles on it\n"
     ]
    }
   ],
   "source": [
    "class Car:\n",
    "    #un simple intento de represetnar un coche\n",
    "    def __init__(self, make,model,year):\n",
    "        #inicializa atributos para describir un coche\n",
    "        self.make=make\n",
    "        self.model=model\n",
    "        self.year=year\n",
    "        self.odometer_reading=0 #nuevo atributo con valor inicial 0\n",
    "    \n",
    "    def get_descriptive_name(self): #metodo\n",
    "        #Devuleve un nombre descriptivo con el dformato adecuado\n",
    "        long_name=f\"{self.year} {self.make} {self.model}\"\n",
    "        return long_name.title()\n",
    "    \n",
    "    def read_odometer(self): #nuevo metodo \n",
    "        #imprime una oracion que indica el kilometraje del coche\n",
    "        print(f\"This car has {self.odometer_reading} miles on it\")\n",
    "\n",
    "my_new_car=Car('audi','a4',2019)\n",
    "print(my_new_car.get_descriptive_name())\n",
    "my_new_car.read_odometer()"
   ]
  },
  {
   "cell_type": "markdown",
   "metadata": {},
   "source": [
    "### Modificar el valor de un atributo"
   ]
  },
  {
   "cell_type": "markdown",
   "metadata": {},
   "source": [
    ">Modificar el atributo 3 maneras:\n",
    "\n",
    "    - Directamente a traves de una instancia\n",
    "    - Estableciendo el valor con un metodo\n",
    "    - incrementando el valor a traves de un metodo."
   ]
  },
  {
   "cell_type": "code",
   "execution_count": 3,
   "metadata": {},
   "outputs": [
    {
     "name": "stdout",
     "output_type": "stream",
     "text": [
      "2019 Audi A4\n",
      "This car has 23 miles on it\n"
     ]
    }
   ],
   "source": [
    "my_new_car=Car('audi','a4',2019)\n",
    "#se accede al atributo de la instancia\n",
    "print(my_new_car.get_descriptive_name())\n",
    "#se cambia el atributo el cual era 0 a 23. \n",
    "#se genera la instancia\n",
    "my_new_car.odometer_reading=23\n",
    "#llamar al metodo de la instancia\n",
    "my_new_car.read_odometer()"
   ]
  },
  {
   "cell_type": "code",
   "execution_count": null,
   "metadata": {},
   "outputs": [],
   "source": []
  }
 ],
 "metadata": {
  "kernelspec": {
   "display_name": "base",
   "language": "python",
   "name": "python3"
  },
  "language_info": {
   "codemirror_mode": {
    "name": "ipython",
    "version": 3
   },
   "file_extension": ".py",
   "mimetype": "text/x-python",
   "name": "python",
   "nbconvert_exporter": "python",
   "pygments_lexer": "ipython3",
   "version": "3.12.7"
  }
 },
 "nbformat": 4,
 "nbformat_minor": 2
}
