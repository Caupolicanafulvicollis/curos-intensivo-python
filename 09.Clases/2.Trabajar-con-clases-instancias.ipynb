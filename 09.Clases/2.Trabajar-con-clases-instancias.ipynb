{
 "cells": [
  {
   "cell_type": "markdown",
   "metadata": {},
   "source": [
    "## Trabajar con clases e instancias"
   ]
  },
  {
   "cell_type": "markdown",
   "metadata": {},
   "source": [
    "### La clase Car"
   ]
  },
  {
   "cell_type": "code",
   "execution_count": 1,
   "metadata": {},
   "outputs": [
    {
     "name": "stdout",
     "output_type": "stream",
     "text": [
      "2019 Audi A4\n"
     ]
    }
   ],
   "source": [
    "class Car:\n",
    "    #un simple intento de represetnar un coche\n",
    "    def __init__(self, make,model,year):\n",
    "        #inicializa atributos para describir un coche\n",
    "        self.make=make\n",
    "        self.model=model\n",
    "        self.year=year\n",
    "    \n",
    "    def get_descriptive_name(self):\n",
    "        #Devuleve un nombre descriptivo con el dformato adecuado\n",
    "        long_name=f\"{self.year} {self.make} {self.model}\"\n",
    "        return long_name.title()\n",
    "\n",
    "my_new_car=Car('audi','a4',2019)\n",
    "print(my_new_car.get_descriptive_name())"
   ]
  },
  {
   "cell_type": "markdown",
   "metadata": {},
   "source": [
    "### Establecer un valor predeterminado para un atributo"
   ]
  },
  {
   "cell_type": "code",
   "execution_count": 2,
   "metadata": {},
   "outputs": [
    {
     "name": "stdout",
     "output_type": "stream",
     "text": [
      "2019 Audi A4\n",
      "This car has 0 miles on it\n"
     ]
    }
   ],
   "source": [
    "class Car:\n",
    "    #un simple intento de represetnar un coche\n",
    "    def __init__(self, make,model,year):\n",
    "        #inicializa atributos para describir un coche\n",
    "        self.make=make\n",
    "        self.model=model\n",
    "        self.year=year\n",
    "        self.odometer_reading=0 #nuevo atributo con valor inicial 0\n",
    "    \n",
    "    def get_descriptive_name(self): #metodo\n",
    "        #Devuleve un nombre descriptivo con el dformato adecuado\n",
    "        long_name=f\"{self.year} {self.make} {self.model}\"\n",
    "        return long_name.title()\n",
    "    \n",
    "    def read_odometer(self): #nuevo metodo \n",
    "        #imprime una oracion que indica el kilometraje del coche\n",
    "        print(f\"This car has {self.odometer_reading} miles on it\")\n",
    "\n",
    "my_new_car=Car('audi','a4',2019)\n",
    "print(my_new_car.get_descriptive_name())\n",
    "my_new_car.read_odometer()"
   ]
  },
  {
   "cell_type": "markdown",
   "metadata": {},
   "source": [
    "### Modificar el valor de un atributo"
   ]
  },
  {
   "cell_type": "markdown",
   "metadata": {},
   "source": [
    ">Modificar el atributo 3 maneras:\n",
    "\n",
    "    - Directamente a traves de una instancia\n",
    "    - Estableciendo el valor con un metodo\n",
    "    - incrementando el valor a traves de un metodo."
   ]
  },
  {
   "cell_type": "code",
   "execution_count": 3,
   "metadata": {},
   "outputs": [
    {
     "name": "stdout",
     "output_type": "stream",
     "text": [
      "2019 Audi A4\n",
      "This car has 23 miles on it\n"
     ]
    }
   ],
   "source": [
    "my_new_car=Car('audi','a4',2019)\n",
    "#se accede al atributo de la instancia\n",
    "print(my_new_car.get_descriptive_name())\n",
    "#se cambia el atributo el cual era 0 a 23. \n",
    "#se genera la instancia\n",
    "my_new_car.odometer_reading=23\n",
    "#llamar al metodo de la instancia\n",
    "my_new_car.read_odometer()"
   ]
  },
  {
   "cell_type": "markdown",
   "metadata": {},
   "source": [
    "#### Modificar el valor de un atributo a traves de un metodo"
   ]
  },
  {
   "cell_type": "markdown",
   "metadata": {},
   "source": [
    "> puede ser util tener metodos que actualicen ciertos atributos por nosotros. "
   ]
  },
  {
   "cell_type": "code",
   "execution_count": 4,
   "metadata": {},
   "outputs": [
    {
     "name": "stdout",
     "output_type": "stream",
     "text": [
      "2019 Audi A4\n",
      "This car has 23 miles on it\n"
     ]
    }
   ],
   "source": [
    "class Car:\n",
    "    #un simple intento de represetnar un coche\n",
    "    def __init__(self, make,model,year):\n",
    "        #inicializa atributos para describir un coche\n",
    "        self.make=make\n",
    "        self.model=model\n",
    "        self.year=year\n",
    "        self.odometer_reading=0 #nuevo atributo con valor inicial 0\n",
    "    \n",
    "    def get_descriptive_name(self): #metodo\n",
    "        #Devuleve un nombre descriptivo con el dformato adecuado\n",
    "        long_name=f\"{self.year} {self.make} {self.model}\"\n",
    "        return long_name.title()\n",
    "    \n",
    "    def read_odometer(self): #nuevo metodo \n",
    "        #imprime una oracion que indica el kilometraje del coche\n",
    "        print(f\"This car has {self.odometer_reading} miles on it\")\n",
    "\n",
    "    #se pasa el nuevo valor a un metodo\n",
    "    def update_odometer(self,mileage): #metodo\n",
    "        #configura el kilometraje con el valor dado\n",
    "        self.odometer_reading=mileage #atributo de la instancia, que gestiona su valor internamente\n",
    "\n",
    "my_new_car=Car('audi','a4',2019)\n",
    "print(my_new_car.get_descriptive_name())\n",
    "#llamada de un metodo que gestiona el cambio del valor de un atributo de forma interna\n",
    "my_new_car.update_odometer(23) # se coloca como argumento el atribtuo el valor que se quiere modificar en el atributo\n",
    "my_new_car.read_odometer()\n"
   ]
  },
  {
   "cell_type": "code",
   "execution_count": 5,
   "metadata": {},
   "outputs": [],
   "source": [
    "class Car:\n",
    "    #un simple intento de represetnar un coche\n",
    "    def __init__(self, make,model,year):\n",
    "        #inicializa atributos para describir un coche\n",
    "        self.make=make\n",
    "        self.model=model\n",
    "        self.year=year\n",
    "        self.odometer_reading=0 #nuevo atributo con valor inicial 0\n",
    "    \n",
    "    def get_descriptive_name(self): #metodo\n",
    "        #Devuleve un nombre descriptivo con el dformato adecuado\n",
    "        long_name=f\"{self.year} {self.make} {self.model}\"\n",
    "        return long_name.title()\n",
    "    \n",
    "    def read_odometer(self): #metodo \n",
    "        #imprime una oracion que indica el kilometraje del coche\n",
    "        print(f\"This car has {self.odometer_reading} miles on it\")\n",
    "\n",
    "    #se pasa el nuevo valor a un metodo\n",
    "    def update_odometer(self,mileage): # nuevo metodo\n",
    "        #configura el kilometraje con el valor dado\n",
    "        self.odometer_reading=mileage #atributo de la instancia, que gestiona su valor internamente\n",
    "\n",
    "        #condicion para que el kilometraje no se baje a lo existente\n",
    "        if mileage >= self.odometer_reading:\n",
    "            self.odometer_reading=mileage\n",
    "        else:\n",
    "            print(\"You can't roll back an odometer!\")"
   ]
  },
  {
   "cell_type": "markdown",
   "metadata": {},
   "source": [
    "#### Aumentar el valor de un atributo a traves de un metodo"
   ]
  },
  {
   "cell_type": "markdown",
   "metadata": {},
   "source": [
    "> Aumenta de un atributo en una cantidad determinada, mas que darle un valor completamente nuevo. "
   ]
  },
  {
   "cell_type": "code",
   "execution_count": 7,
   "metadata": {},
   "outputs": [
    {
     "name": "stdout",
     "output_type": "stream",
     "text": [
      "2015 Subaru Outback\n",
      "This car has 23500 miles on it\n",
      "This car has 23600 miles on it\n"
     ]
    }
   ],
   "source": [
    "class Car:\n",
    "    #un simple intento de represetnar un coche\n",
    "    def __init__(self, make,model,year):\n",
    "        #inicializa atributos para describir un coche\n",
    "        self.make=make\n",
    "        self.model=model\n",
    "        self.year=year\n",
    "        self.odometer_reading=0 #nuevo atributo con valor inicial 0\n",
    "    \n",
    "    def get_descriptive_name(self): #metodo\n",
    "        #Devuleve un nombre descriptivo con el dformato adecuado\n",
    "        long_name=f\"{self.year} {self.make} {self.model}\"\n",
    "        return long_name.title()\n",
    "    \n",
    "    def read_odometer(self):\n",
    "        #imprime una oracion que indica el kilometraje del coche\n",
    "        print(f\"This car has {self.odometer_reading} miles on it\")\n",
    "\n",
    "    #se pasa el nuevo valor a un metodo\n",
    "    def update_odometer(self,mileage):\n",
    "        #configura el kilometraje con el valor dado\n",
    "        self.odometer_reading=mileage #atributo de la instancia, que gestiona su valor internamente\n",
    "\n",
    "        #condicion para que el kilometraje no se baje a lo existente\n",
    "        if mileage >= self.odometer_reading:\n",
    "            self.odometer_reading=mileage\n",
    "        else:\n",
    "            print(\"You can't roll back an odometer!\")\n",
    "\n",
    "    #aumenta el valor de un atributo a traves de un metodo\n",
    "    def increment_odometer(self,miles):  #nuevo metodo\n",
    "        #anade la cantidad dada a la lectura del kilometraje\n",
    "        self.odometer_reading+=miles\n",
    "\n",
    "#crear la instancia de la clase: tomese la idea que es un auto usado\n",
    "my_used_car=Car('Subaru','outback',2015)\n",
    "#llamada del metodo\n",
    "print(my_used_car.get_descriptive_name())\n",
    "\n",
    "#llamada de un metodo que gestiona el cambio del valor de un atributo de forma interna\n",
    "my_used_car.update_odometer(23500)\n",
    "#llamada de un metodo\n",
    "my_used_car.read_odometer()\n",
    "\n",
    "#llamada de un metodo que gestiona el cambio del valor de un atributo de forma interna: el auto recorrio 100. \n",
    "my_used_car.increment_odometer(100)\n",
    "#llamada de un metodo\n",
    "my_used_car.read_odometer()"
   ]
  },
  {
   "cell_type": "markdown",
   "metadata": {},
   "source": [
    "# PRUEBELO"
   ]
  },
  {
   "cell_type": "markdown",
   "metadata": {},
   "source": [
    "## 9-4 Numero-servido"
   ]
  },
  {
   "cell_type": "code",
   "execution_count": 40,
   "metadata": {},
   "outputs": [
    {
     "name": "stdout",
     "output_type": "stream",
     "text": [
      "El restaurante Cora Bistro tiene un tipo de cocina Chilena\n",
      "el restaurante Cora Bistro esta abierto\n",
      "La cantidad de clientes es de 10\n",
      "La cantidad de clientes atendidos es de 12\n",
      "La cantidad de clientes atendido en un dia fue de 17\n"
     ]
    }
   ],
   "source": [
    "class Restaurante:\n",
    "    def __init__(self,nombre_restaurante, tipo_cocina): # metodo constructor\n",
    "        self.nombre_restaurante=nombre_restaurante #atributo de la instancia\n",
    "        self.tipo_cocina=tipo_cocina \n",
    "        self.numero_servido=0 #se agrega atributo con un valor determinado\n",
    "\n",
    "    def describir_restaurante(self): #metodo\n",
    "        #con atributos de la instancia\n",
    "        print(f\"El restaurante {self.nombre_restaurante} tiene un tipo de cocina {self.tipo_cocina}\")\n",
    "    \n",
    "    def abrir_restaurante(self): #metodo\n",
    "        print(f\"el restaurante {self.nombre_restaurante} esta abierto\")\n",
    "\n",
    "    #se agrega el metodo del ejercicio\n",
    "    #modificar el valor de un atributo a traves de un metodo\n",
    "    def establecer_numero_servido(self,custome):\n",
    "        self.numero_servido=custome\n",
    "        print(f\"La cantidad de clientes atendidos es de {custome}\")\n",
    "\n",
    "    #aumnetar el valor de un atributo a traves de un metodo\n",
    "    def incrementar_numero_servido(self, clientes):\n",
    "        self.numero_servido+=clientes\n",
    "        print(f\"La cantidad de clientes atendido en un dia fue de {self.numero_servido}\")\n",
    "\n",
    "#se crea instancia llamada restaurante\n",
    "restaurante=Restaurante(\"Cora Bistro\",\"Chilena\") #instancia\n",
    "restaurante.describir_restaurante() #llamadas a metodos \n",
    "restaurante.abrir_restaurante() #llamadas a metodos\n",
    "\n",
    "#modificar atributo directamente a traves de una instancia\n",
    "restaurante.numero_servido=10\n",
    "print(f'La cantidad de clientes es de {restaurante.numero_servido}')\n",
    "#llamada del metodo para modificar el numero de clientes\n",
    "restaurante.establecer_numero_servido(12)\n",
    "#llamada de un  metodo que gestiona el cambio del valor de un atributo de forma interna\n",
    "restaurante.incrementar_numero_servido(5)"
   ]
  },
  {
   "cell_type": "markdown",
   "metadata": {},
   "source": [
    "## 9-5. Intentos de inicio de sesion"
   ]
  },
  {
   "cell_type": "code",
   "execution_count": null,
   "metadata": {},
   "outputs": [],
   "source": []
  }
 ],
 "metadata": {
  "kernelspec": {
   "display_name": "base",
   "language": "python",
   "name": "python3"
  },
  "language_info": {
   "codemirror_mode": {
    "name": "ipython",
    "version": 3
   },
   "file_extension": ".py",
   "mimetype": "text/x-python",
   "name": "python",
   "nbconvert_exporter": "python",
   "pygments_lexer": "ipython3",
   "version": "3.12.7"
  }
 },
 "nbformat": 4,
 "nbformat_minor": 2
}
